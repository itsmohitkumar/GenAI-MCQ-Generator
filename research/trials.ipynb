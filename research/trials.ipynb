{
 "cells": [
  {
   "cell_type": "code",
   "execution_count": 1,
   "metadata": {},
   "outputs": [],
   "source": [
    "import os\n",
    "import json\n",
    "import pandas as pd\n",
    "import traceback"
   ]
  },
  {
   "cell_type": "code",
   "execution_count": 2,
   "metadata": {},
   "outputs": [
    {
     "data": {
      "text/plain": [
       "True"
      ]
     },
     "execution_count": 2,
     "metadata": {},
     "output_type": "execute_result"
    }
   ],
   "source": [
    "from dotenv import load_dotenv\n",
    "\n",
    "load_dotenv()  # take environment variables from .env."
   ]
  },
  {
   "cell_type": "code",
   "execution_count": 3,
   "metadata": {},
   "outputs": [
    {
     "name": "stdout",
     "output_type": "stream",
     "text": [
      "sk-proj-t1MZaOgd1WB3Xy3i7SUuT3BlbkFJ6MRC5Jo6wBKUqCrbwJyp\n"
     ]
    }
   ],
   "source": [
    "KEY=os.getenv(\"OPENAI_API_KEY\")\n",
    "print(KEY)"
   ]
  },
  {
   "cell_type": "code",
   "execution_count": 4,
   "metadata": {},
   "outputs": [],
   "source": [
    "#pip install pypdf"
   ]
  },
  {
   "cell_type": "code",
   "execution_count": 5,
   "metadata": {},
   "outputs": [
    {
     "data": {
      "text/plain": [
       "[Document(metadata={'source': '/Users/taurangela/Desktop/Github/GenAI-MCQ-Generator |OpenAI |Langchain/data/NEET UG 2024.pdf', 'page': 0}, page_content=\"PUBLIC NCE\\nIt is notified to ail the stakehorders especiaily to the aspiringcandidates that the Under Graduate Medicai eduiation Board, anautonomous body under National Medical commission has finalised the\\nNEET (UG)-2024 sytlabus.\\n2. The same has been uproaded on NMC's website for the referenceof the public at large. The stakeholders are advised to refer to theupdated syllabus for NEET (uG)-2024 for the preparation of the studymaterial and for preparation of NEET (UG) examinations for academic\\nsession 2024-25.\\n3. This issues with the approval of competent authority.\\n(Shambhu Shara{\\nK\\nDirector, UGMEBl*r.3umar)qUru/Phone : 25367 033, 25367035,\\n25367036\\nfi-*/Fax : 0091-1 1-25 367024\\n*-fa/E-mail : ug@nmc.orq.in.qiil-d -14, tfrt g,6R-6'r,\\nfiq-t, r€ Eafr-zz\\nPocket- 14, Sector- 8,\\nDwarka, Phase - 1, New\\nDelht-77\\nqfiq3flgff-fla 3Tr*rr\\nNational Medical Commission\\n(Undergraduate Medical Education Board)\\nNo.U-14023I19/2023-UGMEB 06.10.2023\"),\n",
       " Document(metadata={'source': '/Users/taurangela/Desktop/Github/GenAI-MCQ-Generator |OpenAI |Langchain/data/NEET UG 2024.pdf', 'page': 1}, page_content=\"SYLLABUS FOR NEET (UG) - 2024\\nPHYSICS\\nUNIT I: PHYSICS AND MEASUREMENT\\nUnits of measurements. System of Units, , S I Units, fundamental and derived units, least count.\\nsignificant figures, Errors in measurements , Dimensions of Physics quantities. dimensional\\nanalysis, and its applications.\\nUNIT 2: KI\\\\EMATICS\\nlhe franre of reference, motion in a straight line. Position- time graph. speed and velocitl:\\nUnifonn and non-uniform motion. average speed and instantaneous velocity. unilbrmlv\\naccelerated motion. velocity-time, position-time graph, relations lor uniformly accelerated\\nmotioir- Scalars and Vectors. Vector. Addition and subtraction, , scalar and vector products. Unit\\nVector. Resolution of a Vcctor. Relative Velocity. Motion in a plane, Projectile Motion. Unifbrm\\nCircular Motion.\\nUNIT3: LAWS OF MOTION\\nForce and inertia, Ne*'ton's First law of motion: Momentum, Newton,s Second Law of motion,\\nImpulses: Ne*ton's Third Lar,v of motion. I-aw of conservation of linear momentum and its\\napplications. Equilibrium of concurrent forces.\\nStatic and Kinetic flriction, larvs of friction. rolling friction.\\nDynamics of uniform circular motion: centripetal force and its applications: vehicle on a level\\ncircular road. vehicle on a banked road.\\nUNIT 4: WORK, BNERGY, AND POWER\\nWork done by a constant force and a variable force; kinetic and potential energies. work-energy\\ntheorem, power.\\nThe potential energy of spring conservation of mechanical energy. conservative and non-\\nconservative forces; motion in a vertical circle: Elastic and inelastic collisions in one and trvo\\ndimensions.\\nUNITS: ROTATIONAL MOTION\\nCentue of the mass of a two-particle system, Centre of the mass of a rigid body: Basic concepts\\nof rotational motion; moment of a force; torque, angular momentum, conservation of angular\\nmomentum and its applications;\\nThe moment of inertia, the radius of gyration, values of moments of inertia forsimple geometrical\\nobjects, parallel and perpendicular axes theorems. and their applications. Equitibrium of rigid\\nbodies. rigid body rotation and equations ofrotational motion , comparison oflinear and rotational\\nmotions.\\nI\"),\n",
       " Document(metadata={'source': '/Users/taurangela/Desktop/Github/GenAI-MCQ-Generator |OpenAI |Langchain/data/NEET UG 2024.pdf', 'page': 2}, page_content=\"UNIT 6: GRAVITATION\\nThe universal law of gravitation. Acceleration due to gravity and its variation with altitude and\\ndepth. Kepler's law oi planetary motion. Gravitational potential energy; gravitational potential.\\nEscape velocity, Motion ofa satellite, orbital velocity, time period and energy ofsatellite.\\nUNIT 7: PROPERTIES OF SOLIDS AND LIQUIDS\\nElastic behaviour, Stress-strain relationship, Hooke's Law. Young's modulus, bulk modulus,\\nmodulus of rigidity. Pressure due to a tluid column; Pascal's law and its applications. Effect of\\ngravity on fluid pressure.\\nViscosity. Stokes' law. terminal velocity, streamline, and turbulent flow.critical velocity\\nBemoulli's principle and its applications.\\nSurface energy and surface tension, angle of contact, excess of pressure across a curved surface,\\napplication of surface tension - drops, bubbles, and capillary rise. Heat, temperature, thermal\\nexpansion; specific heat capacity, calorimetry; change of state, latent heat. Heat tansfer-\\nconduction, convection, and radiation.\\nUNIT 8: THERMODYNAMICS\\nThermal equilibrium, zeroth law of thermodynamics, the concept of temperature. Heat, work, and\\nintemal energy. The first law of thermodynamics, isothermal and adiabatic processes.\\nThe second law of thermodynamics: reversible and irreversible processes.\\nUhITT 9: KIIIETIC THEORY OF GASES\\nEquation of state of a perfect gas, rvork done on compressing a gas, Kinetic theory of gases -\\nassumptions, the concept of pressure. Kinetic interpretation of temperature: RMS speed of gas\\nmolecules: Degrees of freedom. Law of equipartition ofenergy and applications to specific heat\\ncapacities ofgases; Mean free path. Avogadro's number.\\nUNIT 10: OSCILLATIONS AI\\\\D WAVES\\nOscillations and periodic motion - time period, frequency, displacement as a function of time.\\nPeriodic functions. Simple harmonic motion (S.H.M.) and its equation; phase: oscillations of a\\nspring -restoring force and force constant: energy in S.H.M. - Kinetic and potential energies;\\nSimple pendulum - derivation of expression for its time period:\\nWave motion. Longitudinal and transverse waves, speed of travelling wave. Displacement\\nrelation for a progressive wave. Principle ofsuperposition ofwaves, reflection ofwaves. Standing\\nwaves in strings and organ pipes, fundamental mode and harmonics- Beats.\\nUNIT 11: ELECTROSTATICS\\nElectric charges: Conservation ofcharge. Coulomb's law forces between two point charges, forces\\nbetween multiple charges: superposition principle and continuous charge distribution.\\nElectric field: Electric field due to a point charge, Electric field lines. Electric dipole, Electric field\\ndue to a dipole. Torque on a dipole in a uniform electric field'\\n;: ---72za--.1->\"),\n",
       " Document(metadata={'source': '/Users/taurangela/Desktop/Github/GenAI-MCQ-Generator |OpenAI |Langchain/data/NEET UG 2024.pdf', 'page': 3}, page_content='Electric flux\\' Gauss\\'s law and its applications to find field due to infnitely long uniformly charged\\nstraight wire, uniformly charged infinite plane sheet, and uniformly charged thin spherical shell.Electric potential and its calculation for a point charge, electric dipole and system of chargeslpotential diference, Equipotential surfaces, Electrical potential eneigy ofa system of two poinl\\ncharges and of electric dipole in an electrostatic field.\\nconductors and insulators. Dielectrics and electric polarization, capacitors and capacitances,, thecombination ofcapacitors in series and parallel, capacitance ofa parallel plate capacitor with andwithout dielectric medium bet*\\'een the plates. Energy stored in a capacitor.\\nUNIT 12: CURRENT ELECTRICITY\\nElectric current. Drift velocity, mobility and their relation *ith electric current.. Ohm,s law.Electrical resistance.. v-l characteristics of ohmic and non-ohmic conductors. Electrical energyand power\\' Electrical resistiviry and conductivity. Series and parallel combinations of resistors;Temp€rature dependence of resistance.\\nInternal resistance, potential difference and emf of a cell, a combination of cells in series andparallel. Kirchhoffs raws and their applications. wheatstone bridge. Metre Bridge.\\nUNIT 13: MAGNETIC ETFECTS oF CURRENT AND MAGNETISM\\nBiot - Savart law and its application to current carrying circular loop. Ampere,s larv and itsapplications to infinitely long current carrying straight wire and solenoid. Fo.\"e on a movingcharge in uniform magnetic and electric fields.\\nForce on a current-carrying conductor in a uniform magnetic field. The force between two parallelcurrents carrying conductors-definition of ampere. Torque experienced by a current loop in auniform magnetic field: Moving coil galvanometer, its sensitivity, and conversion to ammeter andvoltmeter.\\nCurrent loop as a magnetic dipole and its magnetic dipole moment. Bar magnet as an equivalentsolenoid. magnetic field lines; Magnetic fierd due to a magneric dipole (bar magnet) arong itsaxis and perpendicular to its axis. Torque on a magnetic dipole in a unifor- .ugn.,i\" field. para-\\n\\' dia- and ferromagnetic substances with examples, effect of temperu,*. on.Jgn.,ic properties.\\nUNIT I4: ELECTROMAGNETIC INDUCTI,N AND ALTERNATING .URRENTS\\nElectromagnetic induction: Faraday\\'s law. Induced emf and cunent: Lenz,s Law, Eddy currents.Self and mutuar inductance. Artemating cunents, peak and RMS varue of altemating current/voltage: reactance and impedance: LCR series ci.cuit, ,esonance: power in AC circuits, wattlesscurrent. AC generator and transformer.\\nUNIT 15: ELECTROMAGNETIC WAVES\\nDisplacement current. Electromagnetic waves and their characteristics, Transverse nature ofelectromagnetic waves, Electromagnetic spectrum (radio waves, microwaves, infrared, visibre,ultraviolet. X-rays. Gamma rays), Applications of e.m. waves.\\nUNIT l6: OPTICS\\nReflection of light, spherical minors, morror formura. Refraction of right at prane and sphericarsurfaces, thin lens formula and lens maker formura. Totar intemal reflection and its applications.\\n3'),\n",
       " Document(metadata={'source': '/Users/taurangela/Desktop/Github/GenAI-MCQ-Generator |OpenAI |Langchain/data/NEET UG 2024.pdf', 'page': 4}, page_content=\"TIN!T. Magnification. Power of a Lens. Combination of thin lenses in contact. Refraction of light\\ntkough a prism. Microscope and Astronomical Telescope (reflecting and refracting ) and their\\nmagnifying powers.\\nWave optics: wavefront and Huygens' principle. Laws ofreflection and refraction using Huygens\\nprinciple. Interference, Young's double-slit experiment and expression for fringe width, coherent\\nsources, and sustained interFerence of light. Diffraction due to a single slit, width of central\\nmaximum.. Polarization, plane-polarized light: Brewster's law, uses of plane-polarized light and\\nPolaroid.\\nI?: DUAL NATURE OF MATTER AND RADIATION\\nDual nature of radiation. Photoelectric effect. Hertz and Lenard's observations; Einstein's\\nphotoelectric equation: particle nature oflight. Matter wbves-wave nature of particle, de Broglie\\nrelation..\\nUNIT 18: ATOMS AND NUCLEI\\nAlpha-particle scattering experiment; Rutherford's model of atom; Bohr model, energy levels'\\nhydrogen spectrum. Composition and size of nucleus, atomic masses, Mass-energy relation, mass\\ndefect; binding energy per nucleon and its variation with mass number, nuclear fission, and fusion.\\nUNIT 19: ELECTRONIC DEVICES\\nSemiconductors; semiconductor diode: I-V characteristics in forward and reverse bias; diode as a\\nrectifier; I-V characteristics ofLED. the photodiode, solar cell, and Zener diode; Zener diode as\\na voltage regulator.. Logic gates (OR. AND. NOT. NAND and NOR).\\nUNIT 20: EXPERIMENTAL SKILLS\\nFamiliarity with the basic approach and observations ofthe experiments and activities:\\nr. Vemier calipers-its use to measure the intemal and extemal diameter and depth of a vessel.\\nz. Screw gauge-its use to determine thicknesV diameter ofthin sheet/wire'\\nr. Simple pendulum-dissipation of energy by plotting a graph between the square of amplitude\\nand time.\\nl. Metre Scale - the mass of a given object by the principle of moments'\\ns. Young's modulus of elasticity of the material of a metallic wire'\\no. Surf ace tension of water by capillary rise and effect of detergents,\\nz. Co-efficient of Viscosity of a given viscous liquid by measuring terminal velocity of a given\\nspherical bodY'\\na. Speed of sound in air at room temperature using a resonance tube,\\ns. Specific heat capacity ofa given (i) solid and (ii) liquid by method of mixtures.\\nt0. The resistivity of the material of a given wire using a metre bridge'\\nt t. The resistance of a given wire using Ohm's law'\\nt2. Resistance and figure of merit of a galvanometer by halfdeflection method.\\ntr. The focal len4h of;\\n(i) Convex mirror\\n(ii) Concave mirror, and\\n(i0 Convex lens, using the parallax method.\\ntl. The plot ofthe angle ofdeviation vs angle of incidence for a triangular prism'\\n{7\\\\\"),\n",
       " Document(metadata={'source': '/Users/taurangela/Desktop/Github/GenAI-MCQ-Generator |OpenAI |Langchain/data/NEET UG 2024.pdf', 'page': 5}, page_content=\"15. Refractive index ofa glass slab usinq a travelling microscope.\\nto. characteristic cun'es of a p-njunction diode in forward and reverse bias.\\ntz. characteristic cun'es ofa Zener diode and finding reverse break down voltage.\\nta- Identificatic'n of Di.de. LED,. Resistor. A capacitor from a mixed collection of such items\\nr f\"),\n",
       " Document(metadata={'source': '/Users/taurangela/Desktop/Github/GenAI-MCQ-Generator |OpenAI |Langchain/data/NEET UG 2024.pdf', 'page': 6}, page_content=\"CHEMISTRY\\nPHYSICAL CHEMISTRY\\nUNIT I: SOME BASIC CONCEPTS IN CHEMISTRY\\nMatter and its nature, Dalton's atomic theory: Concept of atom, molecule, element. and\\ncompound:: Laws of chemical combination; Atomic and moleculat masses, mole concept, molar\\nmass, percentage composition, empirical and molecular formulae: Chemical equations and\\nstoichiometry.\\nUNIT 2: ATOMIC STRUCTURE\\nNature of electromagnetic radiation, photoelectric effect; Spectrum of the hydrogen atom. Bohr\\nmodel ofa hydrogen atom - its postulates, derivation ofthe relations for the energy ofthe electron\\nand radii of the different orbits, limitations of Bohr's model; Dual nature of r,latter, de Broglie's\\nrelationship. Heisenberg uncertainty principle. Elementary ideas ofquantum mechanics, quantum\\nmechanics, the quantum mechanical model of the atom, its important features. Concept of atomic\\norbitals as one-electron wave functions: Variation ofY and Y2 with r for ls and 2s orbitals:\\nvarious\\nquantum numbers (principal, angular momentum, arrd magnetic quantum numbers) and their\\nslgnificance; shapes of s, p, and d - orbitals, electron spin and spin quantum number: Rules for\\nfilling electrons in orbitis - Aufbau principle. Pauli's exclusion principle and Hund's rule,\\nelectronic configuration of elements, extra stability of half-filled and completely filled orbitals'\\nUNIT 3: CHEMICAL BONDINC AND MOLECULAR STRUCTURE\\nKossel - Lewis approach to chemical bond formation, the concept of ionic and covalent bonds'\\nIonic Bonding: Formation of ionic bonds, factors affecting the formation of ionic bonds;\\ncalculation of lattice enthalPY.\\ncovalent Bonding: concept of electronegativity. Fajan's rule, dipole moment: valence Shell\\nElectronPairRepulsion(VSEPR)theoryandshapesofsimplemolecules.\\nQuantum mechanical approach to covalent bonding: Valence bond theory - its important f'eatures.\\nthe concept of hybridization involving s, p, and d orbitals; Resonance'\\nMolecular orbital Theory - Its important features. LCAOs, 'types of molecular orbitals\\n(bonding, antibonding), sigma and pi-bonds, molecular orbital electronic configuralions of\\nhomonuclear diatomic molecules, the concept ofbond order, bond length, and bond energy'\\nElementaryideaofmetallicbonding.Hydrogenbondingandisapplications.\\nUNIT 4: CHEMICAL THERMODYNAMICS\\nFundamentals of thermodynamics: system and surroundings, extensive and intensive properties'\\nstate functions, types of processes'\\nThe first lew of thermodynamics - concept of work, heat intemal energy and enthalpy, heat\\ncapacity,molarheat.up*ity;Hess,slawofconstantheatsummation;Enthalpiesofbond\\n6\"),\n",
       " Document(metadata={'source': '/Users/taurangela/Desktop/Github/GenAI-MCQ-Generator |OpenAI |Langchain/data/NEET UG 2024.pdf', 'page': 7}, page_content='dissociation, combustion\\' formation, atomization. sublimation. phase transition, hydration.ionization. and solution.\\nThe second raw of thermodynamics - Spontaneity of processes: AS ofthe universe and AC ofthe system as criteria for spontaneity. AG\" (Standard\\'Gibbs energy change) and equiribriumconstant.\\nUNIT 5: SOLUTIONS\\nUNIT 6: EQUILIBRIUM\\nUNIT 8: CHEMICAL KINETICSDifferent methods for expressing the concentration of sorution - morarity, molarity, more fraction.percentage (by volume and mass both), the vapour pressure ofsolutions and Raoult,s law - Idealand.non-ideal solutions, vapour pressure - composition, plots for ideal and non-ideal solutions:colligative properties of dirute sorutions - a rerative lowering of vapour pressure, depression or freezing point\\' the elevation of.boiring point anJ o.,,o,i|\\'p.\"rrr..; Determination of morecurarmass using colligative properties; Abnormal uutr\" or .it* mass, van,t Hoff factor and its significance.\\nMeaning of equilibrium, the concept of dynamic equilibrium.\\nEquilibria invorving physicar processes: SolidJiquid, liquid - gas and sorid_gas equiribria, Henry,s law. Ceneral characreristlcs of equilib.lr,, i,ir\"fri\"i pirriiJ#*.rl*-\\nEquiribrium invorving chemicar processes: Law of chemicar equiribrium, equiribrium constants (K, and K\") and their significance, the significance of aG -j oc\" in chemical equiribrium, factors affecting equirib--rium .or.\"n,rrtion, pressure, temperature, the effect of catalyst; Le Chatelier,s principle.\\nIonic equiribrium: weak. and strong electroryes, ioni-ation of erectroryes, various concepts of acids and bases 1461\"nius. Brons-ted - Lorvry ira twis; and their ionization, acid-base equilibria (incruding murtistage ionization) -i i*i*ion \"o**o, ionirrtn of water. pH scale, common ion ef;fecr, hvdrorysis of sar,, *Jpn or,r,\"i. *rrti\";;,;;;;;lii,y of sparingry soluble salts and solubiliry produ;m, butrer s;l;;;;. l\\nUNIT N REDOX REACTIONS AI{D ELECTROCHEMISTRYElectronic concepts of oxidation il-.\";;;;;;1.x reactions, oxidation number, rules for assigning oxidation number, balancing of redo;;\";;\"^.\\nElectrolltic and metallic conduction, conductance in electrolyic solutions, molar conductivities and their variation with concentration: Kohlrausch,. lu* ana its applications.\\nElectrochemical cells - Electrolytic and Galvanic cells, different types of electrodes, erectrode potentials including standard- electrode potentit;ari- celr and cerr reacrions, emf of a Garvanic cell and its measurement: Nemst \\n\"q,ation il L ;;;;;;\\'ffi;:il;\\'ob\"t*\".n ... potentiar and Gibbs\\' energy change: o.y \"\"ir *Ji\"\"Jaccumurator; Fuel cers.\\nRate ofa chemical reaction, factors affecting the rate of reactions: concentration, temperature. pressure\\' and catalyst: elementary and compiex ,\"J.^, \\n\".0a, and morecurariry of reactions. rate law, rate constant and its units, airrei\"ntiui arJ\\'i*.*, forms of zero and first-order\\n\\\\ --:\\n\\\\'),\n",
       " Document(metadata={'source': '/Users/taurangela/Desktop/Github/GenAI-MCQ-Generator |OpenAI |Langchain/data/NEET UG 2024.pdf', 'page': 8}, page_content=\"reactions. their characteristics and half-lives, the el'fect of temperature on the rate oi reactions.\\nArrhenius theory. activation energy and its calculation, collision theory of bimolecular gaseous\\nreactions (no derivation).\\nINORGANIC CHEMISTRY\\nUNIT 9: CLASSITICATION OF ELEMENTS AND PERIODICITY IN PROPERTIES\\nModem periodic law and present form ofthe periodic table. s, p. d and fblock elements- periodic\\ntrends in properties of elements atomic and ionic radii. ionization enthalpy, electron gain\\nenthalp)'. valence. oxidation states. and chemical reactivity'\\nUNIT IO: P- BLOCK ELEMENTS\\nGroup -13 to GrouP 18 Elements\\nGeneral Introduction: Electronic configuration and general trends in physical and chemical\\nproperties of elements across the periods and down the groups; unique behaviour of the first\\nelement in each grouP.\\nUNIT ll: d - and f- BLOCK ELEMENTS\\nTransition Elements\\nGeneral introduction, electronic configuration, occulrence and characteristics, general trends in\\nproperties ofthe first.row transition elements - physical properties, ionization enthalpy, oxidation\\nstates. atomic radii. colour. catalytic behaviour. magnetic properties, complex formation.\\ninterstitialcompounds.alloyfbrmation:Preparation,properties,andusesofKzCrzol.and\\nKMnOr.\\nlnner Transition Elements\\nLanthanoids-Electronicconfiguration,oxidationstates,andlanthanoidcontraction.\\nActinoids - Electronic contiguration and oxidation states'\\nUNIT l2: CO-ORDINATION COMPOUNDS\\nIntroductiontocoordinationcompounds.Wemer,stheory;ligands,coordinationnumber.\\ndenticity. chelation; IUPAC nomenclature of mononuclear co-ordination compounds' isomerism:\\nBonding.ValencebondapproachandbasicideasofCrystaltieldtheory,colourandmagnetic\\nproperties; lmportance oico-ordination compounds (in qualitative analysis. extraction of metals\\nand in biological sYstems)'\\nORGANIC CHEMISTRY\\nUNIT 13: PURIFICATION AND CHARACTERISATION OF ORGANIC COMPOIJNDS\\nPurification - Crystallization. sublimarion'\\nchromatography - principles and their applications'distillation, differential extraction, and\\nQualitative analysis - Detection of nitrogen, sulphur' phosphorus' and halogens\\n\\\\--i-\\n8 I\\n1zS'7\"),\n",
       " Document(metadata={'source': '/Users/taurangela/Desktop/Github/GenAI-MCQ-Generator |OpenAI |Langchain/data/NEET UG 2024.pdf', 'page': 9}, page_content='Quantitative analysis (basic principres onry) - Estimation of carbon. hydrogen. nitrogen.halogens. sulphur. phosphorus.\\ncalculations of empirical formulae and molecular formulae: Numerical oroblems in organicquantitalive anall,sis.\\nUNIT I4:SOME BASIC PRINCIPLES OF oRGANIC CHEMISTRY\\nTetra\\\\ralency of carbon: Shapes of simple morecules - hybridization (s and p): crassification oforganic compounds based on f,nctional groups: and those containing haloge( o*yg\"n. nit.og\"n.and sulphur; Homorogous series: Isomerism - structural and stereoisomerism.\\n\\' Nomenclature (Trivial and IUpAC)\\nCol\\'aient bond fission - Homolytic and heterolytic: free radicals. carbocations. and carbanions:stability ofcarbocations and free radicals. electiophires. una nr.t.opiir... \"- \" *.\\nElectronic displacement in a covalent bond\\n- Inductive efl\\'ect, electromeric efl.ect. resonance. and hyperconjugation.\\nCommon types of organic reactions- Substitution. addition. eliminatioir, and rearranqement.\\nUNITS 15: HYDROCARBONS\\nClassification\\' isomerism. IUpAC nomenclature, general methods of preparation, properties, andreactions.\\nAlkanes - Conformations: Sawhorse and Newman\\nhalogenation of alkanes.projections (of ethane): Mechanism oi\\nAlkenes - Geornetrical isomerism: Mechanism of electrophilic addition: addition of hydrogen.halogens, water. hydrogen halides (Markownikoffs and peroxide \"ff\".tt, \\'\"Oronofysis \\nand poll merization.\\nAlkynes - Acidic character: Addition of hydrogen. halogens. water. and hydrogen harides:Polymerization.\\nAromatic hydrocarbons - Nomenclature. benzene - structure and aromaticitl,: Mechanism of electrophilic substitution: halogenation, nitration.\\nFriedel - craft\\'s alkylation and acylation, directive influence of the tunctional group in mono-substituted benzene.\\nUNIT l6: ORGANIC COMPOUNDS CONTAINING HALOGENS\\nGeneral methods ofpreparation, properties, and reactions; Nature of C_X bond: Mechanisms ol substitution reactions.\\nUses; Environmental effects ofchloroform, iodoform lieons, and DDT\\nUNIT 17: ORGANIC COMPOUNDS CONTAINING OXYGEN\\nGeneral methods ofpreparation, properties, reactions, and uses.\\nALCOHOLS, PIIENOLS, anyp g1116p5\\n9'),\n",
       " Document(metadata={'source': '/Users/taurangela/Desktop/Github/GenAI-MCQ-Generator |OpenAI |Langchain/data/NEET UG 2024.pdf', 'page': 10}, page_content='Alcohols: Identification of primary, secondary, and tertiary alcohols: mechanism of dehydration.\\nPhenols: Acidic nature, electrophilic substitution reactions: halogenation. nitration and\\nsulphonation. Reimer - Tiemann reaction.\\nEthers: Structure.\\nAldehyde and Ketones: Nature of carbonyl group; Nucleophilic addition to >c:o group\\'\\nrelative reactivities ofaldehydes and ketones; Important reactions such as - Nucleophilic addition\\nreactions (addition of HCN. NH:. and its derivatives), Grignard reagent; oxidation: reduction\\n(wolf Kishner and clemmensen); the acidity of cr.-hydrogen. aldol condensatiorl canniz.zaro\\nreaction. Haloform reaction, Chemical tests to distinguish between aldehydes and Ketones\\'\\nCarboxYlic Acids\\nAcidic strength and factors affecting it\\'\\nUNIT I8: ORGANIC COMPOUNDS CONTAINING NITROGEN\\nGeneral methods ofpreparation. Properties, reactions, and uses\\'\\nAmines: Nomenclature, classification structure, basic character, and identification of\\nprimary, secondary, and tertiary amines and their basic character\\'\\nDiazonium Salts: Importance in synthetic organic chemistry\\'\\nUNIT 19: BIOMOLECULES\\nGeneral introduction and importance olbiomolecules\\'\\nCARBOHYDRATES - classitication; aldoses and ketoses: monosaccharides (glucose and\\nfructose) and constituent monosaccharides of oligosaccharides (sucrose, lactose, and maltose)\\'\\nPRoTEINS.ElementaryIdeaofo.anrinoacids,peptidebond,polypeptides.Proteins:primary.\\nsecondary, tertiary, and quatemary structure (qualitative i<Iea only), denaturation of proteins\\'\\nenzymes.\\nVITAMINS - Classillcation and functions\\'\\nNUCLEIC ACIDS - Chemical constitution of DNA and RNA\\'\\nBiological functions of nucleic acids\\'\\nHormones (General introduction)\\nUNIT 20: PRINCIPLES RELATED TO PRACTICAI, CHEMISTRY\\nDetectionofextraelements(Nilrogen,sulphur,halogens)inorganiccompounds;Detectionof\\nthe following functional g.oup., hydro*yi ialcoholic and phenolic), carbonyl (aldehyde and\\nketones) carboxyl, and amino groups in organic cotnpounds\\'\\no The chemistry involved in the preparation ofthe following:\\nInoiganic compounds: Mohr\\'s salt. potash alum\\'\\nOrganic compounds: Acetanilide. p-r\\'itro acetanilide\\' aniline yellor\\'r\" iodoform\\'\\nl()7'),\n",
       " Document(metadata={'source': '/Users/taurangela/Desktop/Github/GenAI-MCQ-Generator |OpenAI |Langchain/data/NEET UG 2024.pdf', 'page': 11}, page_content=\"' The chemistry involved in the titrimetric exercises - Acids. bases and the use of indicators. oxalic-\\nacid vs KMnO+. Mohr's salt vs KMnO.rr Chemical principles involved in the qualitative salt analysis:\\ncations - pb2+. cu2+. Alr*, Fe3*. zn2r, Ni2*, c02*, Ba2*, Mg2-. NHi\\nAnions- COj-, SL.SO|-. \\\\o3'. No2-, CI-, Br-. I-( Insoluble salts excluded).\\nChemical principles involved in the follorving experiments:\\nl. Enthalpy of solution of CuSO,r\\n2. Enthalpy of neutralization ofsrrong acid and strong base.\\n3. Preparation oflyophilic and lyophobic sols.\\n4. Kineric study of the reaction oriodide ions with hydrogen peroxide at room temDerature.\\nlt\"),\n",
       " Document(metadata={'source': '/Users/taurangela/Desktop/Github/GenAI-MCQ-Generator |OpenAI |Langchain/data/NEET UG 2024.pdf', 'page': 12}, page_content='Bl()t.()(;\\\\\\nUNIT l: Diversity in Living World\\n. What is living? ; Biodiversity; Need for classification;; Taxonomy & Systematics;\\nConcept of species and taxonomical hierarchy; Binomial nomenclature;\\n. Five kingdom classification: salient features and classification of Monera; Protista and\\nFungi into major groups: Lichensl Viruses and Viroids.\\n. salient features and classification of plants into major groups-Algae, Bryophytes,\\nPteridophyres, Gymnosperms (three to five salient and distinguishing featues and at\\nleast two examples of each category);\\n. Salient features and classification ofanimals-nonchordate up to phyla level and chordate\\nup to classes level (three to five salient features and at least two examples)\\'\\nUNIT 2: Structural Organisation in Animals and Plants\\n. Morphology and modifications; Tissues; Anatomy and functions of different parts of\\nflowering plants: Root, stem, leaf, inllorescence- cymose and recemose, flower\\' fruit\\nand seed 1To be dealt along with the relevant practical ofthe Practical Syllabus) Family\\n(malvaceae, Cruciferae, leguminoceae, compositae, graminae)\\'\\n. Animal tissues; Morphology, anatomy and functions of different systems (digestive,\\ncirculatory, respiratory, nervous and reproductive) of an insect (Frog)\\' (Brief account\\nonlY)\\nUNIT 3: Cell Structure and Function\\ncell theory and cell as the basic unit oflife; Structure ofprokaryotic and eukaryotic cell;\\nPlant cell and animal cell; Cell envelope\\' cell membrane, cell wall; Cell organelles-\\nstructure and function; Endomembrane system-endoplasmic reticulum\\' Golgi bodies\\'\\nlysosomes, vacuoles; mitochondria, ribosomes, plastids, micro bodies; Cytoskeleton\\'\\ncilia flag\"lla centrioles (ultra structure and function); Nucleus-nuclear membrane\\'\\nchromatin, nucleolus.\\nchemical constituents of living cells: Biomolecules-structure and function of proteins,\\ncarbodydrates. lipids, nucleic acids; Enzymes-rypes, properties\\' enzyme action\\'\\nclassification and nomenclature of anzymes\\nB Cetl division: Cell cycle, mitosis, meiosis and their significance\\'\\nUNIT 4: Plant PhYsiologr\\n. Photosynthesis: Photosynthesis as a means of Autotrophic nutrition; Site of\\nphotosynthesis take place; pigments involved in Photosynthesis (Elementary-.idea);\\nPhotochemical and biosynthetic phases of photosynthesis; Cyclic and non cyclic and\\nll'),\n",
       " Document(metadata={'source': '/Users/taurangela/Desktop/Github/GenAI-MCQ-Generator |OpenAI |Langchain/data/NEET UG 2024.pdf', 'page': 13}, page_content=\"photophosphorylation; chemiosmotic hlpothesis; photorespiration c3 and c4\\npathways; Factors affecting photosynthesis.\\n' Respiration: Exchange gases; cellular respiration-glycolysis. fermentation (anaerobic),\\nTCA cycle and electron transport system (aerobic); Energy relations- Number ofATp\\nmolecules generated; Amphibolic pathways; Respiratory quotient.\\n' Plant growth and development: Seed germination; phases of plant gowth and plantgrowth rate; Conditions of growth; Differentiation, dedifferentiation and\\nredifferentiation; Sequence ofdevelopmental process in a plant cell; Growth regulators-\\nauxin, gibberellin, cy.tokinin, ethylene, ABA;\\nUNIT 5: Human Physiolog;r\\n' Breathing and Respiration: Respiratory organs in animars (reca onry); Respiratory\\nsystem in humans; Mechanism of breathing and its regulation in humans-Exchange of\\ngases, transport of gases and regulation of respiration Respiratory volumes; Disorders\\nrelated to respiration-Asthm4 Emphysema, Occupational respiratory disorders.\\n' Body fluids and circulation: composition ofblood, blood groups, coagulation ofbrood;composition of lymph and its function; Human circulatory system-structure of humanheart and blood vessers; cardiac cycle, cardiac output. ECc. Doubre circulation;\\nRegulation ofcardiac activity; Disorders ofcircuratory system-Hypertension, coronary\\nartery disease, Angina pectoris, Heart failure.\\n' Excretory products and their elimination: Modes of excretion- Ammonotelism,ureotelism, uricotelism; Human excretory system-structure and fuction; Urineformation, osmoregulation; Regulation of kidney function-Renin-angiotensin, AtrialNatriuretic Factor' ADH and Diabetes insipidus; Role of other orgais in excretion;Disorders; Uraemia, Renal fairure, Renal carcuri, Nephritis; Diarlsis and artificialkidney.\\n' Locomotion and Movement: Types of movement- c iary, fiagelrar, muscular; Skeletalmuscle- contractile proteins and muscle contraction; Skeletal system and its functions(To be dealt with the relevant practical of practical sylrabus); Joints; Disorders ofmuscular and skeletal system-Myasthenia gravis, Tetany, Muscular dystrophy, Arthritis,Osteoporosis, Gout.\\n' Neural control and coordination: Neuron and nerves; Nervous system in humanscentral\\nnervous system, peripheral nervous system and visceral nervous system; Generation andconduction of nerve impulse;\\n' chemical coordination and regulation: Endocrine glands and hormones; Humanendocrine system-Hypothalamus, pituitary, pineal, Thyroid, parathyroid, Adrenal,Pancreas, Gonads; Mechanism ofhormone action (Elementary ldea); Role ofhormonesas messengers and regurators, Hypo-and hyperactivity and rerated disorders (commondisorders e.g. Dwarfism, Acromegaly, Cretinism, goiter, exopthalmic goiter, diabetes,Addison's disease).\\n(lmp: Diseases and disorders mentioned above to be deolt in brief.)\\n1J\\\\-\"),\n",
       " Document(metadata={'source': '/Users/taurangela/Desktop/Github/GenAI-MCQ-Generator |OpenAI |Langchain/data/NEET UG 2024.pdf', 'page': 14}, page_content=\"IINIT 6: Reproduction\\nSexual reproduction in flowering plants: Flower structure; Development of male and\\nfemale gametophytes; Pollination-types, agencies and examples; Outbreeding devices;\\nPollen-Pistil interaction; Double fertilization; Post fertilization events- Development of\\nendosperm and embryo, Development of seed and formation of fruit; Special modes-\\napomixis, parthenocarpy, polyembryony; Significance of seed and fruit formation.\\nHuman Reproduction: Male and female reproductive systems; Microscopic anatomy of\\ntestis and ovary; Gametogenesis-spermatogenesis & oogenesis; Menstrual cycle;\\nFertilisation, embryo development upto blastocyst formation, implantation: Pregnancy\\nand placenta formation (Elementary idea); Parturition (Elementary idea); Lactation\\n(Elementary idea).\\nReproductive health: Need for reproductive health and prevention of sexually\\ntransmitted diseases (STD); Birth control-Need and Methods, Contraception and\\nMedical Termination of Pregnancy (MTP); Amniocentesis; lnfertility and assisted\\nreproductive technologies - IVF, ZIFT, GIFT (Elementary idea for general awareness).\\nIJMT 7: Genetics and Evolution\\n. Heredity and variation: Mendelian lnheritance; Deviations from Mendelism-\\nIncomplete dominance, Co-dominance, Multiple alleles and Inheritance of blood\\ngroups, Pleiotropy; Elementary idea of polygenic inheritance; Chromosome theory of\\ninheritance; Chromosomes and genes; Sex determination-l-n humans' birds, honey bee;\\nLinkage and crossing over; Sex linked inheritance-Haemophilia colour blindness;\\nMendelian disorders in humans-Thalassemia; chromosomal disorders in humans;\\nDown's syndrome, Tumer's and Klinefelter's syndromes.\\n. Moleculat basis of Inheritance: Search for genetic material and DNA as genetic\\nmaterial; Structure of DNA and RNA; DNA packaging; DNA replication; Central\\ndogma; Transcription, genetic code, translation; Gene expression and regulation- Lac\\nOperon; Genome and human genome project; DNA finger printing, protein\\nbiosynthesis.\\n. Evolution: Origin of life; Biological evolution and evidences for biological evolution\\nfrom Paleontology, comparative anatomy, embryology and molecular evidence);\\nDarwin,s contribution, Modem Synthetic theory of Evolution; Mechanism of evolution-\\nVariation (Mutation and Recombination) and Natural Selection with examples, types of\\nnatural selection; cene flow and genetic drift; Hardy-weinberg's principle; Adaptive\\nRadiation; Human evolution.\\nUNIT 8: Biology' and Human Welfare\\nHealth and Disease; Pathogens; parasites causing human diseases (Malaria, Filariasis,\\nAscariasis. Typhoid, Pneumonia, common cold, amoebiasis, ring worm, dengue,\\nchikungunya); Basic concepts of immunology-vaccines; Cancer, HIV and AIDS;\\nAdolescence, drug and alcohol abuse.Tobacco abuse\\n1l{\\\\-=-:--_E--7\"),\n",
       " Document(metadata={'source': '/Users/taurangela/Desktop/Github/GenAI-MCQ-Generator |OpenAI |Langchain/data/NEET UG 2024.pdf', 'page': 15}, page_content=\"Microbes in hurnan r^.'ellare: In househ.ld tbod processing, lrdustrial production,\\nsewage treatment, energy generation and as biocontrol agents and biofertilizers.\\ntiNIT 9: Bi<rtechnologl and lts A.pplir:ations\\nPrincrples and process of Biote:hnologl: Gerietic engineering (Recornbinant DNA\\ntechnology).\\nApplication of Biotechnology rn hcalth and agnculture: Human insulin and vaccine\\nproi.iuction, gens therapyi Cienbtically modified :organisms-Br crops: Transgenic\\nAnimalsl Biosalety issues-Biopirac;r and patents.\\nUNIT l0: Ecolog. and Environment\\n' organisms and environrnentPopulation intemctions-mutualism, competition..predation,\\nparasitisml Populaticn attributes-growth. birth rate ad death rate, age distnburion.\\nEcosystem: Pattems, components; produchvitv aud decomposition: Energy flow:\\nPyramids of number, biomass. energy\\nBiodiversity and its conservation: concepr of Biodiversity; patterns of Biodiversity:\\nImportance of Biodiversity; Loss of Biodiversityr Biodiversity conservation; Hotspots,\\nendangered organisms. extinction; Red Data Book. biosphere resen'es, National parks\\nand sanctuaries, Sacred Groves.\\n\\\\-F_=__E-Z\\nl5\")]"
      ]
     },
     "execution_count": 5,
     "metadata": {},
     "output_type": "execute_result"
    }
   ],
   "source": [
    "#Retriever And Chain With Langchain\n",
    "from langchain_community.document_loaders import PyPDFLoader\n",
    "loader = PyPDFLoader(\"/Users/taurangela/Desktop/Github/GenAI-MCQ-Generator |OpenAI |Langchain/data/NEET UG 2024.pdf\")\n",
    "docs = loader.load()\n",
    "docs"
   ]
  },
  {
   "cell_type": "code",
   "execution_count": 6,
   "metadata": {},
   "outputs": [],
   "source": [
    "question_gen = \"\"\n",
    "\n",
    "for page in docs:\n",
    "    question_gen += page.page_content"
   ]
  },
  {
   "cell_type": "code",
   "execution_count": 7,
   "metadata": {},
   "outputs": [
    {
     "data": {
      "text/plain": [
       "'PUBLIC NCE\\nIt is notified to ail the stakehorders especiaily to the aspiringcandidates that the Under Graduate Medicai eduiation Board, anautonomous body under National Medical commission has finalised the\\nNEET (UG)-2024 sytlabus.\\n2. The same has been uproaded on NMC\\'s website for the referenceof the public at large. The stakeholders are advised to refer to theupdated syllabus for NEET (uG)-2024 for the preparation of the studymaterial and for preparation of NEET (UG) examinations for academic\\nsession 2024-25.\\n3. This issues with the approval of competent authority.\\n(Shambhu Shara{\\nK\\nDirector, UGMEBl*r.3umar)qUru/Phone : 25367 033, 25367035,\\n25367036\\nfi-*/Fax : 0091-1 1-25 367024\\n*-fa/E-mail : ug@nmc.orq.in.qiil-d -14, tfrt g,6R-6\\'r,\\nfiq-t, r€ Eafr-zz\\nPocket- 14, Sector- 8,\\nDwarka, Phase - 1, New\\nDelht-77\\nqfiq3flgff-fla 3Tr*rr\\nNational Medical Commission\\n(Undergraduate Medical Education Board)\\nNo.U-14023I19/2023-UGMEB 06.10.2023SYLLABUS FOR NEET (UG) - 2024\\nPHYSICS\\nUNIT I: PHYSICS AND MEASUREMENT\\nUnits of measurements. System of Units, , S I Units, fundamental and derived units, least count.\\nsignificant figures, Errors in measurements , Dimensions of Physics quantities. dimensional\\nanalysis, and its applications.\\nUNIT 2: KI\\\\EMATICS\\nlhe franre of reference, motion in a straight line. Position- time graph. speed and velocitl:\\nUnifonn and non-uniform motion. average speed and instantaneous velocity. unilbrmlv\\naccelerated motion. velocity-time, position-time graph, relations lor uniformly accelerated\\nmotioir- Scalars and Vectors. Vector. Addition and subtraction, , scalar and vector products. Unit\\nVector. Resolution of a Vcctor. Relative Velocity. Motion in a plane, Projectile Motion. Unifbrm\\nCircular Motion.\\nUNIT3: LAWS OF MOTION\\nForce and inertia, Ne*\\'ton\\'s First law of motion: Momentum, Newton,s Second Law of motion,\\nImpulses: Ne*ton\\'s Third Lar,v of motion. I-aw of conservation of linear momentum and its\\napplications. Equilibrium of concurrent forces.\\nStatic and Kinetic flriction, larvs of friction. rolling friction.\\nDynamics of uniform circular motion: centripetal force and its applications: vehicle on a level\\ncircular road. vehicle on a banked road.\\nUNIT 4: WORK, BNERGY, AND POWER\\nWork done by a constant force and a variable force; kinetic and potential energies. work-energy\\ntheorem, power.\\nThe potential energy of spring conservation of mechanical energy. conservative and non-\\nconservative forces; motion in a vertical circle: Elastic and inelastic collisions in one and trvo\\ndimensions.\\nUNITS: ROTATIONAL MOTION\\nCentue of the mass of a two-particle system, Centre of the mass of a rigid body: Basic concepts\\nof rotational motion; moment of a force; torque, angular momentum, conservation of angular\\nmomentum and its applications;\\nThe moment of inertia, the radius of gyration, values of moments of inertia forsimple geometrical\\nobjects, parallel and perpendicular axes theorems. and their applications. Equitibrium of rigid\\nbodies. rigid body rotation and equations ofrotational motion , comparison oflinear and rotational\\nmotions.\\nIUNIT 6: GRAVITATION\\nThe universal law of gravitation. Acceleration due to gravity and its variation with altitude and\\ndepth. Kepler\\'s law oi planetary motion. Gravitational potential energy; gravitational potential.\\nEscape velocity, Motion ofa satellite, orbital velocity, time period and energy ofsatellite.\\nUNIT 7: PROPERTIES OF SOLIDS AND LIQUIDS\\nElastic behaviour, Stress-strain relationship, Hooke\\'s Law. Young\\'s modulus, bulk modulus,\\nmodulus of rigidity. Pressure due to a tluid column; Pascal\\'s law and its applications. Effect of\\ngravity on fluid pressure.\\nViscosity. Stokes\\' law. terminal velocity, streamline, and turbulent flow.critical velocity\\nBemoulli\\'s principle and its applications.\\nSurface energy and surface tension, angle of contact, excess of pressure across a curved surface,\\napplication of surface tension - drops, bubbles, and capillary rise. Heat, temperature, thermal\\nexpansion; specific heat capacity, calorimetry; change of state, latent heat. Heat tansfer-\\nconduction, convection, and radiation.\\nUNIT 8: THERMODYNAMICS\\nThermal equilibrium, zeroth law of thermodynamics, the concept of temperature. Heat, work, and\\nintemal energy. The first law of thermodynamics, isothermal and adiabatic processes.\\nThe second law of thermodynamics: reversible and irreversible processes.\\nUhITT 9: KIIIETIC THEORY OF GASES\\nEquation of state of a perfect gas, rvork done on compressing a gas, Kinetic theory of gases -\\nassumptions, the concept of pressure. Kinetic interpretation of temperature: RMS speed of gas\\nmolecules: Degrees of freedom. Law of equipartition ofenergy and applications to specific heat\\ncapacities ofgases; Mean free path. Avogadro\\'s number.\\nUNIT 10: OSCILLATIONS AI\\\\D WAVES\\nOscillations and periodic motion - time period, frequency, displacement as a function of time.\\nPeriodic functions. Simple harmonic motion (S.H.M.) and its equation; phase: oscillations of a\\nspring -restoring force and force constant: energy in S.H.M. - Kinetic and potential energies;\\nSimple pendulum - derivation of expression for its time period:\\nWave motion. Longitudinal and transverse waves, speed of travelling wave. Displacement\\nrelation for a progressive wave. Principle ofsuperposition ofwaves, reflection ofwaves. Standing\\nwaves in strings and organ pipes, fundamental mode and harmonics- Beats.\\nUNIT 11: ELECTROSTATICS\\nElectric charges: Conservation ofcharge. Coulomb\\'s law forces between two point charges, forces\\nbetween multiple charges: superposition principle and continuous charge distribution.\\nElectric field: Electric field due to a point charge, Electric field lines. Electric dipole, Electric field\\ndue to a dipole. Torque on a dipole in a uniform electric field\\'\\n;: ---72za--.1->Electric flux\\' Gauss\\'s law and its applications to find field due to infnitely long uniformly charged\\nstraight wire, uniformly charged infinite plane sheet, and uniformly charged thin spherical shell.Electric potential and its calculation for a point charge, electric dipole and system of chargeslpotential diference, Equipotential surfaces, Electrical potential eneigy ofa system of two poinl\\ncharges and of electric dipole in an electrostatic field.\\nconductors and insulators. Dielectrics and electric polarization, capacitors and capacitances,, thecombination ofcapacitors in series and parallel, capacitance ofa parallel plate capacitor with andwithout dielectric medium bet*\\'een the plates. Energy stored in a capacitor.\\nUNIT 12: CURRENT ELECTRICITY\\nElectric current. Drift velocity, mobility and their relation *ith electric current.. Ohm,s law.Electrical resistance.. v-l characteristics of ohmic and non-ohmic conductors. Electrical energyand power\\' Electrical resistiviry and conductivity. Series and parallel combinations of resistors;Temp€rature dependence of resistance.\\nInternal resistance, potential difference and emf of a cell, a combination of cells in series andparallel. Kirchhoffs raws and their applications. wheatstone bridge. Metre Bridge.\\nUNIT 13: MAGNETIC ETFECTS oF CURRENT AND MAGNETISM\\nBiot - Savart law and its application to current carrying circular loop. Ampere,s larv and itsapplications to infinitely long current carrying straight wire and solenoid. Fo.\"e on a movingcharge in uniform magnetic and electric fields.\\nForce on a current-carrying conductor in a uniform magnetic field. The force between two parallelcurrents carrying conductors-definition of ampere. Torque experienced by a current loop in auniform magnetic field: Moving coil galvanometer, its sensitivity, and conversion to ammeter andvoltmeter.\\nCurrent loop as a magnetic dipole and its magnetic dipole moment. Bar magnet as an equivalentsolenoid. magnetic field lines; Magnetic fierd due to a magneric dipole (bar magnet) arong itsaxis and perpendicular to its axis. Torque on a magnetic dipole in a unifor- .ugn.,i\" field. para-\\n\\' dia- and ferromagnetic substances with examples, effect of temperu,*. on.Jgn.,ic properties.\\nUNIT I4: ELECTROMAGNETIC INDUCTI,N AND ALTERNATING .URRENTS\\nElectromagnetic induction: Faraday\\'s law. Induced emf and cunent: Lenz,s Law, Eddy currents.Self and mutuar inductance. Artemating cunents, peak and RMS varue of altemating current/voltage: reactance and impedance: LCR series ci.cuit, ,esonance: power in AC circuits, wattlesscurrent. AC generator and transformer.\\nUNIT 15: ELECTROMAGNETIC WAVES\\nDisplacement current. Electromagnetic waves and their characteristics, Transverse nature ofelectromagnetic waves, Electromagnetic spectrum (radio waves, microwaves, infrared, visibre,ultraviolet. X-rays. Gamma rays), Applications of e.m. waves.\\nUNIT l6: OPTICS\\nReflection of light, spherical minors, morror formura. Refraction of right at prane and sphericarsurfaces, thin lens formula and lens maker formura. Totar intemal reflection and its applications.\\n3TIN!T. Magnification. Power of a Lens. Combination of thin lenses in contact. Refraction of light\\ntkough a prism. Microscope and Astronomical Telescope (reflecting and refracting ) and their\\nmagnifying powers.\\nWave optics: wavefront and Huygens\\' principle. Laws ofreflection and refraction using Huygens\\nprinciple. Interference, Young\\'s double-slit experiment and expression for fringe width, coherent\\nsources, and sustained interFerence of light. Diffraction due to a single slit, width of central\\nmaximum.. Polarization, plane-polarized light: Brewster\\'s law, uses of plane-polarized light and\\nPolaroid.\\nI?: DUAL NATURE OF MATTER AND RADIATION\\nDual nature of radiation. Photoelectric effect. Hertz and Lenard\\'s observations; Einstein\\'s\\nphotoelectric equation: particle nature oflight. Matter wbves-wave nature of particle, de Broglie\\nrelation..\\nUNIT 18: ATOMS AND NUCLEI\\nAlpha-particle scattering experiment; Rutherford\\'s model of atom; Bohr model, energy levels\\'\\nhydrogen spectrum. Composition and size of nucleus, atomic masses, Mass-energy relation, mass\\ndefect; binding energy per nucleon and its variation with mass number, nuclear fission, and fusion.\\nUNIT 19: ELECTRONIC DEVICES\\nSemiconductors; semiconductor diode: I-V characteristics in forward and reverse bias; diode as a\\nrectifier; I-V characteristics ofLED. the photodiode, solar cell, and Zener diode; Zener diode as\\na voltage regulator.. Logic gates (OR. AND. NOT. NAND and NOR).\\nUNIT 20: EXPERIMENTAL SKILLS\\nFamiliarity with the basic approach and observations ofthe experiments and activities:\\nr. Vemier calipers-its use to measure the intemal and extemal diameter and depth of a vessel.\\nz. Screw gauge-its use to determine thicknesV diameter ofthin sheet/wire\\'\\nr. Simple pendulum-dissipation of energy by plotting a graph between the square of amplitude\\nand time.\\nl. Metre Scale - the mass of a given object by the principle of moments\\'\\ns. Young\\'s modulus of elasticity of the material of a metallic wire\\'\\no. Surf ace tension of water by capillary rise and effect of detergents,\\nz. Co-efficient of Viscosity of a given viscous liquid by measuring terminal velocity of a given\\nspherical bodY\\'\\na. Speed of sound in air at room temperature using a resonance tube,\\ns. Specific heat capacity ofa given (i) solid and (ii) liquid by method of mixtures.\\nt0. The resistivity of the material of a given wire using a metre bridge\\'\\nt t. The resistance of a given wire using Ohm\\'s law\\'\\nt2. Resistance and figure of merit of a galvanometer by halfdeflection method.\\ntr. The focal len4h of;\\n(i) Convex mirror\\n(ii) Concave mirror, and\\n(i0 Convex lens, using the parallax method.\\ntl. The plot ofthe angle ofdeviation vs angle of incidence for a triangular prism\\'\\n{7\\\\15. Refractive index ofa glass slab usinq a travelling microscope.\\nto. characteristic cun\\'es of a p-njunction diode in forward and reverse bias.\\ntz. characteristic cun\\'es ofa Zener diode and finding reverse break down voltage.\\nta- Identificatic\\'n of Di.de. LED,. Resistor. A capacitor from a mixed collection of such items\\nr fCHEMISTRY\\nPHYSICAL CHEMISTRY\\nUNIT I: SOME BASIC CONCEPTS IN CHEMISTRY\\nMatter and its nature, Dalton\\'s atomic theory: Concept of atom, molecule, element. and\\ncompound:: Laws of chemical combination; Atomic and moleculat masses, mole concept, molar\\nmass, percentage composition, empirical and molecular formulae: Chemical equations and\\nstoichiometry.\\nUNIT 2: ATOMIC STRUCTURE\\nNature of electromagnetic radiation, photoelectric effect; Spectrum of the hydrogen atom. Bohr\\nmodel ofa hydrogen atom - its postulates, derivation ofthe relations for the energy ofthe electron\\nand radii of the different orbits, limitations of Bohr\\'s model; Dual nature of r,latter, de Broglie\\'s\\nrelationship. Heisenberg uncertainty principle. Elementary ideas ofquantum mechanics, quantum\\nmechanics, the quantum mechanical model of the atom, its important features. Concept of atomic\\norbitals as one-electron wave functions: Variation ofY and Y2 with r for ls and 2s orbitals:\\nvarious\\nquantum numbers (principal, angular momentum, arrd magnetic quantum numbers) and their\\nslgnificance; shapes of s, p, and d - orbitals, electron spin and spin quantum number: Rules for\\nfilling electrons in orbitis - Aufbau principle. Pauli\\'s exclusion principle and Hund\\'s rule,\\nelectronic configuration of elements, extra stability of half-filled and completely filled orbitals\\'\\nUNIT 3: CHEMICAL BONDINC AND MOLECULAR STRUCTURE\\nKossel - Lewis approach to chemical bond formation, the concept of ionic and covalent bonds\\'\\nIonic Bonding: Formation of ionic bonds, factors affecting the formation of ionic bonds;\\ncalculation of lattice enthalPY.\\ncovalent Bonding: concept of electronegativity. Fajan\\'s rule, dipole moment: valence Shell\\nElectronPairRepulsion(VSEPR)theoryandshapesofsimplemolecules.\\nQuantum mechanical approach to covalent bonding: Valence bond theory - its important f\\'eatures.\\nthe concept of hybridization involving s, p, and d orbitals; Resonance\\'\\nMolecular orbital Theory - Its important features. LCAOs, \\'types of molecular orbitals\\n(bonding, antibonding), sigma and pi-bonds, molecular orbital electronic configuralions of\\nhomonuclear diatomic molecules, the concept ofbond order, bond length, and bond energy\\'\\nElementaryideaofmetallicbonding.Hydrogenbondingandisapplications.\\nUNIT 4: CHEMICAL THERMODYNAMICS\\nFundamentals of thermodynamics: system and surroundings, extensive and intensive properties\\'\\nstate functions, types of processes\\'\\nThe first lew of thermodynamics - concept of work, heat intemal energy and enthalpy, heat\\ncapacity,molarheat.up*ity;Hess,slawofconstantheatsummation;Enthalpiesofbond\\n6dissociation, combustion\\' formation, atomization. sublimation. phase transition, hydration.ionization. and solution.\\nThe second raw of thermodynamics - Spontaneity of processes: AS ofthe universe and AC ofthe system as criteria for spontaneity. AG\" (Standard\\'Gibbs energy change) and equiribriumconstant.\\nUNIT 5: SOLUTIONS\\nUNIT 6: EQUILIBRIUM\\nUNIT 8: CHEMICAL KINETICSDifferent methods for expressing the concentration of sorution - morarity, molarity, more fraction.percentage (by volume and mass both), the vapour pressure ofsolutions and Raoult,s law - Idealand.non-ideal solutions, vapour pressure - composition, plots for ideal and non-ideal solutions:colligative properties of dirute sorutions - a rerative lowering of vapour pressure, depression or freezing point\\' the elevation of.boiring point anJ o.,,o,i|\\'p.\"rrr..; Determination of morecurarmass using colligative properties; Abnormal uutr\" or .it* mass, van,t Hoff factor and its significance.\\nMeaning of equilibrium, the concept of dynamic equilibrium.\\nEquilibria invorving physicar processes: SolidJiquid, liquid - gas and sorid_gas equiribria, Henry,s law. Ceneral characreristlcs of equilib.lr,, i,ir\"fri\"i pirriiJ#*.rl*-\\nEquiribrium invorving chemicar processes: Law of chemicar equiribrium, equiribrium constants (K, and K\") and their significance, the significance of aG -j oc\" in chemical equiribrium, factors affecting equirib--rium .or.\"n,rrtion, pressure, temperature, the effect of catalyst; Le Chatelier,s principle.\\nIonic equiribrium: weak. and strong electroryes, ioni-ation of erectroryes, various concepts of acids and bases 1461\"nius. Brons-ted - Lorvry ira twis; and their ionization, acid-base equilibria (incruding murtistage ionization) -i i*i*ion \"o**o, ionirrtn of water. pH scale, common ion ef;fecr, hvdrorysis of sar,, *Jpn or,r,\"i. *rrti\";;,;;;;;lii,y of sparingry soluble salts and solubiliry produ;m, butrer s;l;;;;. l\\nUNIT N REDOX REACTIONS AI{D ELECTROCHEMISTRYElectronic concepts of oxidation il-.\";;;;;;1.x reactions, oxidation number, rules for assigning oxidation number, balancing of redo;;\";;\"^.\\nElectrolltic and metallic conduction, conductance in electrolyic solutions, molar conductivities and their variation with concentration: Kohlrausch,. lu* ana its applications.\\nElectrochemical cells - Electrolytic and Galvanic cells, different types of electrodes, erectrode potentials including standard- electrode potentit;ari- celr and cerr reacrions, emf of a Garvanic cell and its measurement: Nemst \\n\"q,ation il L ;;;;;;\\'ffi;:il;\\'ob\"t*\".n ... potentiar and Gibbs\\' energy change: o.y \"\"ir *Ji\"\"Jaccumurator; Fuel cers.\\nRate ofa chemical reaction, factors affecting the rate of reactions: concentration, temperature. pressure\\' and catalyst: elementary and compiex ,\"J.^, \\n\".0a, and morecurariry of reactions. rate law, rate constant and its units, airrei\"ntiui arJ\\'i*.*, forms of zero and first-order\\n\\\\ --:\\n\\\\reactions. their characteristics and half-lives, the el\\'fect of temperature on the rate oi reactions.\\nArrhenius theory. activation energy and its calculation, collision theory of bimolecular gaseous\\nreactions (no derivation).\\nINORGANIC CHEMISTRY\\nUNIT 9: CLASSITICATION OF ELEMENTS AND PERIODICITY IN PROPERTIES\\nModem periodic law and present form ofthe periodic table. s, p. d and fblock elements- periodic\\ntrends in properties of elements atomic and ionic radii. ionization enthalpy, electron gain\\nenthalp)\\'. valence. oxidation states. and chemical reactivity\\'\\nUNIT IO: P- BLOCK ELEMENTS\\nGroup -13 to GrouP 18 Elements\\nGeneral Introduction: Electronic configuration and general trends in physical and chemical\\nproperties of elements across the periods and down the groups; unique behaviour of the first\\nelement in each grouP.\\nUNIT ll: d - and f- BLOCK ELEMENTS\\nTransition Elements\\nGeneral introduction, electronic configuration, occulrence and characteristics, general trends in\\nproperties ofthe first.row transition elements - physical properties, ionization enthalpy, oxidation\\nstates. atomic radii. colour. catalytic behaviour. magnetic properties, complex formation.\\ninterstitialcompounds.alloyfbrmation:Preparation,properties,andusesofKzCrzol.and\\nKMnOr.\\nlnner Transition Elements\\nLanthanoids-Electronicconfiguration,oxidationstates,andlanthanoidcontraction.\\nActinoids - Electronic contiguration and oxidation states\\'\\nUNIT l2: CO-ORDINATION COMPOUNDS\\nIntroductiontocoordinationcompounds.Wemer,stheory;ligands,coordinationnumber.\\ndenticity. chelation; IUPAC nomenclature of mononuclear co-ordination compounds\\' isomerism:\\nBonding.ValencebondapproachandbasicideasofCrystaltieldtheory,colourandmagnetic\\nproperties; lmportance oico-ordination compounds (in qualitative analysis. extraction of metals\\nand in biological sYstems)\\'\\nORGANIC CHEMISTRY\\nUNIT 13: PURIFICATION AND CHARACTERISATION OF ORGANIC COMPOIJNDS\\nPurification - Crystallization. sublimarion\\'\\nchromatography - principles and their applications\\'distillation, differential extraction, and\\nQualitative analysis - Detection of nitrogen, sulphur\\' phosphorus\\' and halogens\\n\\\\--i-\\n8 I\\n1zS\\'7Quantitative analysis (basic principres onry) - Estimation of carbon. hydrogen. nitrogen.halogens. sulphur. phosphorus.\\ncalculations of empirical formulae and molecular formulae: Numerical oroblems in organicquantitalive anall,sis.\\nUNIT I4:SOME BASIC PRINCIPLES OF oRGANIC CHEMISTRY\\nTetra\\\\ralency of carbon: Shapes of simple morecules - hybridization (s and p): crassification oforganic compounds based on f,nctional groups: and those containing haloge( o*yg\"n. nit.og\"n.and sulphur; Homorogous series: Isomerism - structural and stereoisomerism.\\n\\' Nomenclature (Trivial and IUpAC)\\nCol\\'aient bond fission - Homolytic and heterolytic: free radicals. carbocations. and carbanions:stability ofcarbocations and free radicals. electiophires. una nr.t.opiir... \"- \" *.\\nElectronic displacement in a covalent bond\\n- Inductive efl\\'ect, electromeric efl.ect. resonance. and hyperconjugation.\\nCommon types of organic reactions- Substitution. addition. eliminatioir, and rearranqement.\\nUNITS 15: HYDROCARBONS\\nClassification\\' isomerism. IUpAC nomenclature, general methods of preparation, properties, andreactions.\\nAlkanes - Conformations: Sawhorse and Newman\\nhalogenation of alkanes.projections (of ethane): Mechanism oi\\nAlkenes - Geornetrical isomerism: Mechanism of electrophilic addition: addition of hydrogen.halogens, water. hydrogen halides (Markownikoffs and peroxide \"ff\".tt, \\'\"Oronofysis \\nand poll merization.\\nAlkynes - Acidic character: Addition of hydrogen. halogens. water. and hydrogen harides:Polymerization.\\nAromatic hydrocarbons - Nomenclature. benzene - structure and aromaticitl,: Mechanism of electrophilic substitution: halogenation, nitration.\\nFriedel - craft\\'s alkylation and acylation, directive influence of the tunctional group in mono-substituted benzene.\\nUNIT l6: ORGANIC COMPOUNDS CONTAINING HALOGENS\\nGeneral methods ofpreparation, properties, and reactions; Nature of C_X bond: Mechanisms ol substitution reactions.\\nUses; Environmental effects ofchloroform, iodoform lieons, and DDT\\nUNIT 17: ORGANIC COMPOUNDS CONTAINING OXYGEN\\nGeneral methods ofpreparation, properties, reactions, and uses.\\nALCOHOLS, PIIENOLS, anyp g1116p5\\n9Alcohols: Identification of primary, secondary, and tertiary alcohols: mechanism of dehydration.\\nPhenols: Acidic nature, electrophilic substitution reactions: halogenation. nitration and\\nsulphonation. Reimer - Tiemann reaction.\\nEthers: Structure.\\nAldehyde and Ketones: Nature of carbonyl group; Nucleophilic addition to >c:o group\\'\\nrelative reactivities ofaldehydes and ketones; Important reactions such as - Nucleophilic addition\\nreactions (addition of HCN. NH:. and its derivatives), Grignard reagent; oxidation: reduction\\n(wolf Kishner and clemmensen); the acidity of cr.-hydrogen. aldol condensatiorl canniz.zaro\\nreaction. Haloform reaction, Chemical tests to distinguish between aldehydes and Ketones\\'\\nCarboxYlic Acids\\nAcidic strength and factors affecting it\\'\\nUNIT I8: ORGANIC COMPOUNDS CONTAINING NITROGEN\\nGeneral methods ofpreparation. Properties, reactions, and uses\\'\\nAmines: Nomenclature, classification structure, basic character, and identification of\\nprimary, secondary, and tertiary amines and their basic character\\'\\nDiazonium Salts: Importance in synthetic organic chemistry\\'\\nUNIT 19: BIOMOLECULES\\nGeneral introduction and importance olbiomolecules\\'\\nCARBOHYDRATES - classitication; aldoses and ketoses: monosaccharides (glucose and\\nfructose) and constituent monosaccharides of oligosaccharides (sucrose, lactose, and maltose)\\'\\nPRoTEINS.ElementaryIdeaofo.anrinoacids,peptidebond,polypeptides.Proteins:primary.\\nsecondary, tertiary, and quatemary structure (qualitative i<Iea only), denaturation of proteins\\'\\nenzymes.\\nVITAMINS - Classillcation and functions\\'\\nNUCLEIC ACIDS - Chemical constitution of DNA and RNA\\'\\nBiological functions of nucleic acids\\'\\nHormones (General introduction)\\nUNIT 20: PRINCIPLES RELATED TO PRACTICAI, CHEMISTRY\\nDetectionofextraelements(Nilrogen,sulphur,halogens)inorganiccompounds;Detectionof\\nthe following functional g.oup., hydro*yi ialcoholic and phenolic), carbonyl (aldehyde and\\nketones) carboxyl, and amino groups in organic cotnpounds\\'\\no The chemistry involved in the preparation ofthe following:\\nInoiganic compounds: Mohr\\'s salt. potash alum\\'\\nOrganic compounds: Acetanilide. p-r\\'itro acetanilide\\' aniline yellor\\'r\" iodoform\\'\\nl()7\\' The chemistry involved in the titrimetric exercises - Acids. bases and the use of indicators. oxalic-\\nacid vs KMnO+. Mohr\\'s salt vs KMnO.rr Chemical principles involved in the qualitative salt analysis:\\ncations - pb2+. cu2+. Alr*, Fe3*. zn2r, Ni2*, c02*, Ba2*, Mg2-. NHi\\nAnions- COj-, SL.SO|-. \\\\o3\\'. No2-, CI-, Br-. I-( Insoluble salts excluded).\\nChemical principles involved in the follorving experiments:\\nl. Enthalpy of solution of CuSO,r\\n2. Enthalpy of neutralization ofsrrong acid and strong base.\\n3. Preparation oflyophilic and lyophobic sols.\\n4. Kineric study of the reaction oriodide ions with hydrogen peroxide at room temDerature.\\nltBl()t.()(;\\\\\\nUNIT l: Diversity in Living World\\n. What is living? ; Biodiversity; Need for classification;; Taxonomy & Systematics;\\nConcept of species and taxonomical hierarchy; Binomial nomenclature;\\n. Five kingdom classification: salient features and classification of Monera; Protista and\\nFungi into major groups: Lichensl Viruses and Viroids.\\n. salient features and classification of plants into major groups-Algae, Bryophytes,\\nPteridophyres, Gymnosperms (three to five salient and distinguishing featues and at\\nleast two examples of each category);\\n. Salient features and classification ofanimals-nonchordate up to phyla level and chordate\\nup to classes level (three to five salient features and at least two examples)\\'\\nUNIT 2: Structural Organisation in Animals and Plants\\n. Morphology and modifications; Tissues; Anatomy and functions of different parts of\\nflowering plants: Root, stem, leaf, inllorescence- cymose and recemose, flower\\' fruit\\nand seed 1To be dealt along with the relevant practical ofthe Practical Syllabus) Family\\n(malvaceae, Cruciferae, leguminoceae, compositae, graminae)\\'\\n. Animal tissues; Morphology, anatomy and functions of different systems (digestive,\\ncirculatory, respiratory, nervous and reproductive) of an insect (Frog)\\' (Brief account\\nonlY)\\nUNIT 3: Cell Structure and Function\\ncell theory and cell as the basic unit oflife; Structure ofprokaryotic and eukaryotic cell;\\nPlant cell and animal cell; Cell envelope\\' cell membrane, cell wall; Cell organelles-\\nstructure and function; Endomembrane system-endoplasmic reticulum\\' Golgi bodies\\'\\nlysosomes, vacuoles; mitochondria, ribosomes, plastids, micro bodies; Cytoskeleton\\'\\ncilia flag\"lla centrioles (ultra structure and function); Nucleus-nuclear membrane\\'\\nchromatin, nucleolus.\\nchemical constituents of living cells: Biomolecules-structure and function of proteins,\\ncarbodydrates. lipids, nucleic acids; Enzymes-rypes, properties\\' enzyme action\\'\\nclassification and nomenclature of anzymes\\nB Cetl division: Cell cycle, mitosis, meiosis and their significance\\'\\nUNIT 4: Plant PhYsiologr\\n. Photosynthesis: Photosynthesis as a means of Autotrophic nutrition; Site of\\nphotosynthesis take place; pigments involved in Photosynthesis (Elementary-.idea);\\nPhotochemical and biosynthetic phases of photosynthesis; Cyclic and non cyclic and\\nllphotophosphorylation; chemiosmotic hlpothesis; photorespiration c3 and c4\\npathways; Factors affecting photosynthesis.\\n\\' Respiration: Exchange gases; cellular respiration-glycolysis. fermentation (anaerobic),\\nTCA cycle and electron transport system (aerobic); Energy relations- Number ofATp\\nmolecules generated; Amphibolic pathways; Respiratory quotient.\\n\\' Plant growth and development: Seed germination; phases of plant gowth and plantgrowth rate; Conditions of growth; Differentiation, dedifferentiation and\\nredifferentiation; Sequence ofdevelopmental process in a plant cell; Growth regulators-\\nauxin, gibberellin, cy.tokinin, ethylene, ABA;\\nUNIT 5: Human Physiolog;r\\n\\' Breathing and Respiration: Respiratory organs in animars (reca onry); Respiratory\\nsystem in humans; Mechanism of breathing and its regulation in humans-Exchange of\\ngases, transport of gases and regulation of respiration Respiratory volumes; Disorders\\nrelated to respiration-Asthm4 Emphysema, Occupational respiratory disorders.\\n\\' Body fluids and circulation: composition ofblood, blood groups, coagulation ofbrood;composition of lymph and its function; Human circulatory system-structure of humanheart and blood vessers; cardiac cycle, cardiac output. ECc. Doubre circulation;\\nRegulation ofcardiac activity; Disorders ofcircuratory system-Hypertension, coronary\\nartery disease, Angina pectoris, Heart failure.\\n\\' Excretory products and their elimination: Modes of excretion- Ammonotelism,ureotelism, uricotelism; Human excretory system-structure and fuction; Urineformation, osmoregulation; Regulation of kidney function-Renin-angiotensin, AtrialNatriuretic Factor\\' ADH and Diabetes insipidus; Role of other orgais in excretion;Disorders; Uraemia, Renal fairure, Renal carcuri, Nephritis; Diarlsis and artificialkidney.\\n\\' Locomotion and Movement: Types of movement- c iary, fiagelrar, muscular; Skeletalmuscle- contractile proteins and muscle contraction; Skeletal system and its functions(To be dealt with the relevant practical of practical sylrabus); Joints; Disorders ofmuscular and skeletal system-Myasthenia gravis, Tetany, Muscular dystrophy, Arthritis,Osteoporosis, Gout.\\n\\' Neural control and coordination: Neuron and nerves; Nervous system in humanscentral\\nnervous system, peripheral nervous system and visceral nervous system; Generation andconduction of nerve impulse;\\n\\' chemical coordination and regulation: Endocrine glands and hormones; Humanendocrine system-Hypothalamus, pituitary, pineal, Thyroid, parathyroid, Adrenal,Pancreas, Gonads; Mechanism ofhormone action (Elementary ldea); Role ofhormonesas messengers and regurators, Hypo-and hyperactivity and rerated disorders (commondisorders e.g. Dwarfism, Acromegaly, Cretinism, goiter, exopthalmic goiter, diabetes,Addison\\'s disease).\\n(lmp: Diseases and disorders mentioned above to be deolt in brief.)\\n1J\\\\-IINIT 6: Reproduction\\nSexual reproduction in flowering plants: Flower structure; Development of male and\\nfemale gametophytes; Pollination-types, agencies and examples; Outbreeding devices;\\nPollen-Pistil interaction; Double fertilization; Post fertilization events- Development of\\nendosperm and embryo, Development of seed and formation of fruit; Special modes-\\napomixis, parthenocarpy, polyembryony; Significance of seed and fruit formation.\\nHuman Reproduction: Male and female reproductive systems; Microscopic anatomy of\\ntestis and ovary; Gametogenesis-spermatogenesis & oogenesis; Menstrual cycle;\\nFertilisation, embryo development upto blastocyst formation, implantation: Pregnancy\\nand placenta formation (Elementary idea); Parturition (Elementary idea); Lactation\\n(Elementary idea).\\nReproductive health: Need for reproductive health and prevention of sexually\\ntransmitted diseases (STD); Birth control-Need and Methods, Contraception and\\nMedical Termination of Pregnancy (MTP); Amniocentesis; lnfertility and assisted\\nreproductive technologies - IVF, ZIFT, GIFT (Elementary idea for general awareness).\\nIJMT 7: Genetics and Evolution\\n. Heredity and variation: Mendelian lnheritance; Deviations from Mendelism-\\nIncomplete dominance, Co-dominance, Multiple alleles and Inheritance of blood\\ngroups, Pleiotropy; Elementary idea of polygenic inheritance; Chromosome theory of\\ninheritance; Chromosomes and genes; Sex determination-l-n humans\\' birds, honey bee;\\nLinkage and crossing over; Sex linked inheritance-Haemophilia colour blindness;\\nMendelian disorders in humans-Thalassemia; chromosomal disorders in humans;\\nDown\\'s syndrome, Tumer\\'s and Klinefelter\\'s syndromes.\\n. Moleculat basis of Inheritance: Search for genetic material and DNA as genetic\\nmaterial; Structure of DNA and RNA; DNA packaging; DNA replication; Central\\ndogma; Transcription, genetic code, translation; Gene expression and regulation- Lac\\nOperon; Genome and human genome project; DNA finger printing, protein\\nbiosynthesis.\\n. Evolution: Origin of life; Biological evolution and evidences for biological evolution\\nfrom Paleontology, comparative anatomy, embryology and molecular evidence);\\nDarwin,s contribution, Modem Synthetic theory of Evolution; Mechanism of evolution-\\nVariation (Mutation and Recombination) and Natural Selection with examples, types of\\nnatural selection; cene flow and genetic drift; Hardy-weinberg\\'s principle; Adaptive\\nRadiation; Human evolution.\\nUNIT 8: Biology\\' and Human Welfare\\nHealth and Disease; Pathogens; parasites causing human diseases (Malaria, Filariasis,\\nAscariasis. Typhoid, Pneumonia, common cold, amoebiasis, ring worm, dengue,\\nchikungunya); Basic concepts of immunology-vaccines; Cancer, HIV and AIDS;\\nAdolescence, drug and alcohol abuse.Tobacco abuse\\n1l{\\\\-=-:--_E--7Microbes in hurnan r^.\\'ellare: In househ.ld tbod processing, lrdustrial production,\\nsewage treatment, energy generation and as biocontrol agents and biofertilizers.\\ntiNIT 9: Bi<rtechnologl and lts A.pplir:ations\\nPrincrples and process of Biote:hnologl: Gerietic engineering (Recornbinant DNA\\ntechnology).\\nApplication of Biotechnology rn hcalth and agnculture: Human insulin and vaccine\\nproi.iuction, gens therapyi Cienbtically modified :organisms-Br crops: Transgenic\\nAnimalsl Biosalety issues-Biopirac;r and patents.\\nUNIT l0: Ecolog. and Environment\\n\\' organisms and environrnentPopulation intemctions-mutualism, competition..predation,\\nparasitisml Populaticn attributes-growth. birth rate ad death rate, age distnburion.\\nEcosystem: Pattems, components; produchvitv aud decomposition: Energy flow:\\nPyramids of number, biomass. energy\\nBiodiversity and its conservation: concepr of Biodiversity; patterns of Biodiversity:\\nImportance of Biodiversity; Loss of Biodiversityr Biodiversity conservation; Hotspots,\\nendangered organisms. extinction; Red Data Book. biosphere resen\\'es, National parks\\nand sanctuaries, Sacred Groves.\\n\\\\-F_=__E-Z\\nl5'"
      ]
     },
     "execution_count": 7,
     "metadata": {},
     "output_type": "execute_result"
    }
   ],
   "source": [
    "question_gen"
   ]
  },
  {
   "cell_type": "code",
   "execution_count": 8,
   "metadata": {},
   "outputs": [],
   "source": [
    "from langchain.text_splitter import RecursiveCharacterTextSplitter\n",
    "\n",
    "text_splitter = RecursiveCharacterTextSplitter(chunk_size=1000, chunk_overlap=20)\n",
    "documents=text_splitter.split_documents(docs)"
   ]
  },
  {
   "cell_type": "code",
   "execution_count": 9,
   "metadata": {},
   "outputs": [
    {
     "data": {
      "text/plain": [
       "[Document(metadata={'source': '/Users/taurangela/Desktop/Github/GenAI-MCQ-Generator |OpenAI |Langchain/data/NEET UG 2024.pdf', 'page': 0}, page_content=\"PUBLIC NCE\\nIt is notified to ail the stakehorders especiaily to the aspiringcandidates that the Under Graduate Medicai eduiation Board, anautonomous body under National Medical commission has finalised the\\nNEET (UG)-2024 sytlabus.\\n2. The same has been uproaded on NMC's website for the referenceof the public at large. The stakeholders are advised to refer to theupdated syllabus for NEET (uG)-2024 for the preparation of the studymaterial and for preparation of NEET (UG) examinations for academic\\nsession 2024-25.\\n3. This issues with the approval of competent authority.\\n(Shambhu Shara{\\nK\\nDirector, UGMEBl*r.3umar)qUru/Phone : 25367 033, 25367035,\\n25367036\\nfi-*/Fax : 0091-1 1-25 367024\\n*-fa/E-mail : ug@nmc.orq.in.qiil-d -14, tfrt g,6R-6'r,\\nfiq-t, r€ Eafr-zz\\nPocket- 14, Sector- 8,\\nDwarka, Phase - 1, New\\nDelht-77\\nqfiq3flgff-fla 3Tr*rr\\nNational Medical Commission\\n(Undergraduate Medical Education Board)\\nNo.U-14023I19/2023-UGMEB 06.10.2023\"),\n",
       " Document(metadata={'source': '/Users/taurangela/Desktop/Github/GenAI-MCQ-Generator |OpenAI |Langchain/data/NEET UG 2024.pdf', 'page': 1}, page_content=\"SYLLABUS FOR NEET (UG) - 2024\\nPHYSICS\\nUNIT I: PHYSICS AND MEASUREMENT\\nUnits of measurements. System of Units, , S I Units, fundamental and derived units, least count.\\nsignificant figures, Errors in measurements , Dimensions of Physics quantities. dimensional\\nanalysis, and its applications.\\nUNIT 2: KI\\\\EMATICS\\nlhe franre of reference, motion in a straight line. Position- time graph. speed and velocitl:\\nUnifonn and non-uniform motion. average speed and instantaneous velocity. unilbrmlv\\naccelerated motion. velocity-time, position-time graph, relations lor uniformly accelerated\\nmotioir- Scalars and Vectors. Vector. Addition and subtraction, , scalar and vector products. Unit\\nVector. Resolution of a Vcctor. Relative Velocity. Motion in a plane, Projectile Motion. Unifbrm\\nCircular Motion.\\nUNIT3: LAWS OF MOTION\\nForce and inertia, Ne*'ton's First law of motion: Momentum, Newton,s Second Law of motion,\\nImpulses: Ne*ton's Third Lar,v of motion. I-aw of conservation of linear momentum and its\"),\n",
       " Document(metadata={'source': '/Users/taurangela/Desktop/Github/GenAI-MCQ-Generator |OpenAI |Langchain/data/NEET UG 2024.pdf', 'page': 1}, page_content='applications. Equilibrium of concurrent forces.\\nStatic and Kinetic flriction, larvs of friction. rolling friction.\\nDynamics of uniform circular motion: centripetal force and its applications: vehicle on a level\\ncircular road. vehicle on a banked road.\\nUNIT 4: WORK, BNERGY, AND POWER\\nWork done by a constant force and a variable force; kinetic and potential energies. work-energy\\ntheorem, power.\\nThe potential energy of spring conservation of mechanical energy. conservative and non-\\nconservative forces; motion in a vertical circle: Elastic and inelastic collisions in one and trvo\\ndimensions.\\nUNITS: ROTATIONAL MOTION\\nCentue of the mass of a two-particle system, Centre of the mass of a rigid body: Basic concepts\\nof rotational motion; moment of a force; torque, angular momentum, conservation of angular\\nmomentum and its applications;\\nThe moment of inertia, the radius of gyration, values of moments of inertia forsimple geometrical'),\n",
       " Document(metadata={'source': '/Users/taurangela/Desktop/Github/GenAI-MCQ-Generator |OpenAI |Langchain/data/NEET UG 2024.pdf', 'page': 1}, page_content='objects, parallel and perpendicular axes theorems. and their applications. Equitibrium of rigid\\nbodies. rigid body rotation and equations ofrotational motion , comparison oflinear and rotational\\nmotions.\\nI'),\n",
       " Document(metadata={'source': '/Users/taurangela/Desktop/Github/GenAI-MCQ-Generator |OpenAI |Langchain/data/NEET UG 2024.pdf', 'page': 2}, page_content=\"UNIT 6: GRAVITATION\\nThe universal law of gravitation. Acceleration due to gravity and its variation with altitude and\\ndepth. Kepler's law oi planetary motion. Gravitational potential energy; gravitational potential.\\nEscape velocity, Motion ofa satellite, orbital velocity, time period and energy ofsatellite.\\nUNIT 7: PROPERTIES OF SOLIDS AND LIQUIDS\\nElastic behaviour, Stress-strain relationship, Hooke's Law. Young's modulus, bulk modulus,\\nmodulus of rigidity. Pressure due to a tluid column; Pascal's law and its applications. Effect of\\ngravity on fluid pressure.\\nViscosity. Stokes' law. terminal velocity, streamline, and turbulent flow.critical velocity\\nBemoulli's principle and its applications.\\nSurface energy and surface tension, angle of contact, excess of pressure across a curved surface,\\napplication of surface tension - drops, bubbles, and capillary rise. Heat, temperature, thermal\\nexpansion; specific heat capacity, calorimetry; change of state, latent heat. Heat tansfer-\")]"
      ]
     },
     "execution_count": 9,
     "metadata": {},
     "output_type": "execute_result"
    }
   ],
   "source": [
    "documents[:5]"
   ]
  },
  {
   "cell_type": "code",
   "execution_count": 10,
   "metadata": {},
   "outputs": [],
   "source": [
    "#pip install faiss-cpu"
   ]
  },
  {
   "cell_type": "code",
   "execution_count": 11,
   "metadata": {},
   "outputs": [
    {
     "name": "stderr",
     "output_type": "stream",
     "text": [
      "/Users/taurangela/Desktop/Github/GenAI-MCQ-Generator |OpenAI |Langchain/env/lib/python3.9/site-packages/langchain_core/_api/deprecation.py:139: LangChainDeprecationWarning: The class `OpenAIEmbeddings` was deprecated in LangChain 0.0.9 and will be removed in 0.3.0. An updated version of the class exists in the langchain-openai package and should be used instead. To use it run `pip install -U langchain-openai` and import as `from langchain_openai import OpenAIEmbeddings`.\n",
      "  warn_deprecated(\n"
     ]
    }
   ],
   "source": [
    "from langchain_community.embeddings import OpenAIEmbeddings\n",
    "from langchain_community.vectorstores import FAISS\n",
    "\n",
    "db=FAISS.from_documents(documents[:30],OpenAIEmbeddings())"
   ]
  },
  {
   "cell_type": "code",
   "execution_count": 12,
   "metadata": {},
   "outputs": [
    {
     "data": {
      "text/plain": [
       "<langchain_community.vectorstores.faiss.FAISS at 0x7ff74a664ca0>"
      ]
     },
     "execution_count": 12,
     "metadata": {},
     "output_type": "execute_result"
    }
   ],
   "source": [
    "db"
   ]
  },
  {
   "cell_type": "code",
   "execution_count": 13,
   "metadata": {},
   "outputs": [
    {
     "data": {
      "text/plain": [
       "\"TIN!T. Magnification. Power of a Lens. Combination of thin lenses in contact. Refraction of light\\ntkough a prism. Microscope and Astronomical Telescope (reflecting and refracting ) and their\\nmagnifying powers.\\nWave optics: wavefront and Huygens' principle. Laws ofreflection and refraction using Huygens\\nprinciple. Interference, Young's double-slit experiment and expression for fringe width, coherent\\nsources, and sustained interFerence of light. Diffraction due to a single slit, width of central\\nmaximum.. Polarization, plane-polarized light: Brewster's law, uses of plane-polarized light and\\nPolaroid.\\nI?: DUAL NATURE OF MATTER AND RADIATION\\nDual nature of radiation. Photoelectric effect. Hertz and Lenard's observations; Einstein's\\nphotoelectric equation: particle nature oflight. Matter wbves-wave nature of particle, de Broglie\\nrelation..\\nUNIT 18: ATOMS AND NUCLEI\\nAlpha-particle scattering experiment; Rutherford's model of atom; Bohr model, energy levels'\""
      ]
     },
     "execution_count": 13,
     "metadata": {},
     "output_type": "execute_result"
    }
   ],
   "source": [
    "query=\"DUAL  NATURE OF  MATTER  AND RADIATION\"\n",
    "result=db.similarity_search(query)\n",
    "result[0].page_content"
   ]
  },
  {
   "cell_type": "code",
   "execution_count": 14,
   "metadata": {},
   "outputs": [],
   "source": [
    "RESPONSE_JSON = {\n",
    "    \"1\": {\n",
    "        \"mcq\": \"What is the capital of France?\",\n",
    "        \"options\": {\n",
    "            \"a\": \"Berlin\",\n",
    "            \"b\": \"Madrid\",\n",
    "            \"c\": \"Paris\",\n",
    "            \"d\": \"Rome\",\n",
    "        },\n",
    "        \"correct\": \"c\",\n",
    "    },\n",
    "    \"2\": {\n",
    "        \"mcq\": \"Which planet is known as the Red Planet?\",\n",
    "        \"options\": {\n",
    "            \"a\": \"Earth\",\n",
    "            \"b\": \"Mars\",\n",
    "            \"c\": \"Jupiter\",\n",
    "            \"d\": \"Venus\",\n",
    "        },\n",
    "        \"correct\": \"b\",\n",
    "    },\n",
    "    \"3\": {\n",
    "        \"mcq\": \"What is the chemical symbol for water?\",\n",
    "        \"options\": {\n",
    "            \"a\": \"H2O\",\n",
    "            \"b\": \"CO2\",\n",
    "            \"c\": \"O2\",\n",
    "            \"d\": \"NaCl\",\n",
    "        },\n",
    "        \"correct\": \"a\",\n",
    "    },\n",
    "}"
   ]
  },
  {
   "cell_type": "code",
   "execution_count": 15,
   "metadata": {},
   "outputs": [],
   "source": [
    "quiz_creation_prompt = \"\"\"\n",
    "Text: {text}\n",
    "You are an expert MCQ maker. Given the above text, your job is to \\\n",
    "create a quiz of {number} multiple choice questions for {subject} students in {tone} tone. \n",
    "Make sure the questions are not repeated and verify that all questions conform to the text. \n",
    "Ensure to format your response like the RESPONSE_JSON below and use it as a guide. \\\n",
    "Make sure to create {number} MCQs.\n",
    "### RESPONSE_JSON\n",
    "{response_json}\n",
    "\"\"\""
   ]
  },
  {
   "cell_type": "code",
   "execution_count": 16,
   "metadata": {},
   "outputs": [],
   "source": [
    "from langchain.prompts import PromptTemplate\n",
    "\n",
    "PROMPT_QUESTIONS = PromptTemplate(\n",
    "    input_variables=[\"text\", \"number\", \"subject\", \"tone\", \"response_json\"],\n",
    "    template=quiz_creation_prompt\n",
    ")"
   ]
  },
  {
   "cell_type": "code",
   "execution_count": 17,
   "metadata": {},
   "outputs": [],
   "source": [
    "quiz_evaluation_prompt = \"\"\"\n",
    "You are an expert English grammarian and writer. Given a Multiple Choice Quiz for {subject} students, \\\n",
    "you need to evaluate the complexity of the questions and provide a complete analysis of the quiz. Limit your analysis to at most 50 words. \n",
    "If the quiz is not suitable for the students' cognitive and analytical abilities, update the questions and adjust the tone accordingly to match the students' level.\n",
    "Quiz_MCQs:\n",
    "{quiz}\n",
    "\n",
    "Check from an expert English Writer of the above quiz:\n",
    "\"\"\""
   ]
  },
  {
   "cell_type": "code",
   "execution_count": 18,
   "metadata": {},
   "outputs": [],
   "source": [
    "REFINE_PROMPT_QUESTIONS = PromptTemplate(\n",
    "    input_variables=[\"subject\", \"quiz\"],\n",
    "    template=quiz_evaluation_prompt,\n",
    ")"
   ]
  },
  {
   "cell_type": "code",
   "execution_count": 19,
   "metadata": {},
   "outputs": [],
   "source": [
    "from langchain.chains.summarize import load_summarize_chain\n",
    "from langchain_openai import ChatOpenAI\n",
    "\n",
    "# Initialize the model\n",
    "model = ChatOpenAI(openai_api_key=KEY, model_name=\"gpt-3.5-turbo\", temperature=0.5)\n",
    "\n",
    "# Load the summarization chain\n",
    "ques_gen_chain = load_summarize_chain(\n",
    "    llm=model,\n",
    "    chain_type=\"refine\",\n",
    "    verbose=True,\n",
    "    question_prompt=PROMPT_QUESTIONS,\n",
    "    refine_prompt=REFINE_PROMPT_QUESTIONS\n",
    ")"
   ]
  },
  {
   "cell_type": "code",
   "execution_count": 21,
   "metadata": {},
   "outputs": [
    {
     "name": "stdout",
     "output_type": "stream",
     "text": [
      "\n",
      "Text: Sample text for quiz generation.\n",
      "You are an expert MCQ maker. Given the above text, your job is to create a quiz of 3 multiple choice questions for Science students in formal tone. \n",
      "Make sure the questions are not repeated and verify that all questions conform to the text. \n",
      "Ensure to format your response like the RESPONSE_JSON below and use it as a guide. Make sure to create 3 MCQs.\n",
      "### RESPONSE_JSON\n",
      "{'1': {'mcq': 'What is the capital of France?', 'options': {'a': 'Berlin', 'b': 'Madrid', 'c': 'Paris', 'd': 'Rome'}, 'correct': 'c'}, '2': {'mcq': 'Which planet is known as the Red Planet?', 'options': {'a': 'Earth', 'b': 'Mars', 'c': 'Jupiter', 'd': 'Venus'}, 'correct': 'b'}, '3': {'mcq': 'What is the chemical symbol for water?', 'options': {'a': 'H2O', 'b': 'CO2', 'c': 'O2', 'd': 'NaCl'}, 'correct': 'a'}}\n",
      "\n"
     ]
    }
   ],
   "source": [
    "from langchain.docstore.document import Document\n",
    "\n",
    "# Example usage\n",
    "# Define the required variables\n",
    "text = \"Sample text for quiz generation.\"\n",
    "number = 3\n",
    "subject = \"Science\"\n",
    "tone = \"formal\"\n",
    "response_json = RESPONSE_JSON\n",
    "\n",
    "# To use the PromptTemplate\n",
    "formatted_prompt = PROMPT_QUESTIONS.format(\n",
    "    text=text,\n",
    "    number=number,\n",
    "    subject=subject,\n",
    "    tone=tone,\n",
    "    response_json=response_json\n",
    ")\n",
    "\n",
    "print(formatted_prompt)\n"
   ]
  },
  {
   "cell_type": "code",
   "execution_count": 24,
   "metadata": {},
   "outputs": [
    {
     "name": "stdout",
     "output_type": "stream",
     "text": [
      "\n",
      "\n",
      "\u001b[1m> Entering new RefineDocumentsChain chain...\u001b[0m\n",
      "\n",
      "\n",
      "\u001b[1m> Entering new LLMChain chain...\u001b[0m\n",
      "Prompt after formatting:\n",
      "\u001b[32;1m\u001b[1;3m\n",
      "Text: \n",
      "Text: Sample text for quiz generation.\n",
      "You are an expert MCQ maker. Given the above text, your job is to create a quiz of 3 multiple choice questions for Science students in formal tone. \n",
      "Make sure the questions are not repeated and verify that all questions conform to the text. \n",
      "Ensure to format your response like the RESPONSE_JSON below and use it as a guide. Make sure to create 3 MCQs.\n",
      "### RESPONSE_JSON\n",
      "{'1': {'mcq': 'What is the capital of France?', 'options': {'a': 'Berlin', 'b': 'Madrid', 'c': 'Paris', 'd': 'Rome'}, 'correct': 'c'}, '2': {'mcq': 'Which planet is known as the Red Planet?', 'options': {'a': 'Earth', 'b': 'Mars', 'c': 'Jupiter', 'd': 'Venus'}, 'correct': 'b'}, '3': {'mcq': 'What is the chemical symbol for water?', 'options': {'a': 'H2O', 'b': 'CO2', 'c': 'O2', 'd': 'NaCl'}, 'correct': 'a'}}\n",
      "\n",
      "You are an expert MCQ maker. Given the above text, your job is to create a quiz of 3 multiple choice questions for Science students in formal tone. \n",
      "Make sure the questions are not repeated and verify that all questions conform to the text. \n",
      "Ensure to format your response like the RESPONSE_JSON below and use it as a guide. Make sure to create 3 MCQs.\n",
      "### RESPONSE_JSON\n",
      "{'1': {'mcq': 'What is the capital of France?', 'options': {'a': 'Berlin', 'b': 'Madrid', 'c': 'Paris', 'd': 'Rome'}, 'correct': 'c'}, '2': {'mcq': 'Which planet is known as the Red Planet?', 'options': {'a': 'Earth', 'b': 'Mars', 'c': 'Jupiter', 'd': 'Venus'}, 'correct': 'b'}, '3': {'mcq': 'What is the chemical symbol for water?', 'options': {'a': 'H2O', 'b': 'CO2', 'c': 'O2', 'd': 'NaCl'}, 'correct': 'a'}}\n",
      "\u001b[0m\n",
      "\n",
      "\u001b[1m> Finished chain.\u001b[0m\n",
      "\n",
      "\u001b[1m> Finished chain.\u001b[0m\n",
      "Refined Quiz:\n",
      "{'1': {'mcq': 'What is the process by which plants make their food?', 'options': {'a': 'Photosynthesis', 'b': 'Respiration', 'c': 'Transpiration', 'd': 'Fermentation'}, 'correct': 'a'}, '2': {'mcq': 'What is the unit of measurement for electric current?', 'options': {'a': 'Volts', 'b': 'Ohms', 'c': 'Watts', 'd': 'Amps'}, 'correct': 'd'}, '3': {'mcq': 'What is the study of the Earth\\'s atmosphere and weather called?', 'options': {'a': 'Biology', 'b': 'Chemistry', 'c': 'Meteorology', 'd': 'Geology'}, 'correct': 'c'}}\n"
     ]
    }
   ],
   "source": [
    "# Wrap the formatted prompt in a Document object\n",
    "formatted_prompt_document = Document(page_content=formatted_prompt)\n",
    "\n",
    "\n",
    "# Refine the quiz\n",
    "refined_quiz = ques_gen_chain.run(\n",
    "    input_documents=[formatted_prompt_document],  # Use the properly formatted input\n",
    "    subject=subject,\n",
    "    response_json=response_json,\n",
    "    tone=tone,\n",
    "    number=number\n",
    ")\n",
    "\n",
    "print(\"Refined Quiz:\")\n",
    "print(refined_quiz)\n"
   ]
  },
  {
   "cell_type": "code",
   "execution_count": null,
   "metadata": {},
   "outputs": [],
   "source": []
  }
 ],
 "metadata": {
  "kernelspec": {
   "display_name": "base",
   "language": "python",
   "name": "python3"
  },
  "language_info": {
   "codemirror_mode": {
    "name": "ipython",
    "version": 3
   },
   "file_extension": ".py",
   "mimetype": "text/x-python",
   "name": "python",
   "nbconvert_exporter": "python",
   "pygments_lexer": "ipython3",
   "version": "3.9.18"
  }
 },
 "nbformat": 4,
 "nbformat_minor": 2
}
